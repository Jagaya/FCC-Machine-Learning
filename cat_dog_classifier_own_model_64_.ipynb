{
  "nbformat": 4,
  "nbformat_minor": 0,
  "metadata": {
    "accelerator": "GPU",
    "colab": {
      "name": "cat_dog-classifier own-model 64%.ipynb",
      "provenance": [],
      "collapsed_sections": [],
      "include_colab_link": true
    },
    "kernelspec": {
      "display_name": "Python 3",
      "name": "python3"
    }
  },
  "cells": [
    {
      "cell_type": "markdown",
      "metadata": {
        "id": "view-in-github",
        "colab_type": "text"
      },
      "source": [
        "<a href=\"https://colab.research.google.com/github/Jagaya/FCC-Machine-Learning/blob/main/cat_dog_classifier_own_model_64_.ipynb\" target=\"_parent\"><img src=\"https://colab.research.google.com/assets/colab-badge.svg\" alt=\"Open In Colab\"/></a>"
      ]
    },
    {
      "cell_type": "markdown",
      "metadata": {
        "id": "XeCllzC77-P5"
      },
      "source": [
        "*Note: You are currently reading this using Google Colaboratory which is a cloud-hosted version of Jupyter Notebook. This is a document containng both text cells for documentation and runnable code cells. If you are unfamiliar with Jupyter Notebook, watch this 3-minute introduction before starting this challenge: https://www.youtube.com/watch?v=inN8seMm7UI*\n",
        "\n",
        "\n",
        "\n",
        "---\n",
        "\n",
        "\n",
        "\n",
        "For this challenge, you will complete the code below to classify images of dogs and cats. You will use Tensorflow 2.0 and Keras to create a convolutional neural network that correctly classifies images of cats and dogs at least 63% of the time. (Extra credit if you get it to 70% accuracy!)\n",
        "\n",
        "Some of the code is given to you but some code you must fill in to complete this challenge. Read the instruction in each text cell so you will know what you have to do in each code cell.\n",
        "\n",
        "The first code cell imports the required libraries. The second code cell downloads the data and sets key variables. The third cell is the first place you will write your own code.\n",
        "\n",
        "The structure of the dataset files that are downloaded looks like this (You will notice that the test directory has no subdirectories and the images are not labeled):\n",
        "```\n",
        "cats_and_dogs\n",
        "|__ train:\n",
        "    |______ cats: [cat.0.jpg, cat.1.jpg ...]\n",
        "    |______ dogs: [dog.0.jpg, dog.1.jpg ...]\n",
        "|__ validation:\n",
        "    |______ cats: [cat.2000.jpg, cat.2001.jpg ...]\n",
        "    |______ dogs: [dog.2000.jpg, dog.2001.jpg ...]\n",
        "|__ test: [1.jpg, 2.jpg ...]\n",
        "```\n",
        "\n",
        "You can tweak epochs and batch size if you like, but it is not required."
      ]
    },
    {
      "cell_type": "code",
      "metadata": {
        "id": "la_Oz6oLlub6"
      },
      "source": [
        "try:\n",
        "  # This command only in Colab.\n",
        "  %tensorflow_version 2.x\n",
        "except Exception:\n",
        "  pass\n",
        "import tensorflow as tf\n",
        "\n",
        "from tensorflow.keras.models import Sequential\n",
        "from tensorflow.keras.layers import Dense, Conv2D, Flatten, Dropout, MaxPooling2D\n",
        "from tensorflow.keras.preprocessing.image import ImageDataGenerator\n",
        "\n",
        "import os\n",
        "import numpy as np\n",
        "import matplotlib.pyplot as plt"
      ],
      "execution_count": null,
      "outputs": []
    },
    {
      "cell_type": "code",
      "metadata": {
        "id": "jaF8r6aOl48C"
      },
      "source": [
        "# Get project files\n",
        "!wget https://cdn.freecodecamp.org/project-data/cats-and-dogs/cats_and_dogs.zip\n",
        "\n",
        "!unzip cats_and_dogs.zip\n",
        "\n",
        "PATH = 'cats_and_dogs'\n",
        "\n",
        "train_dir = os.path.join(PATH, 'train')\n",
        "validation_dir = os.path.join(PATH, 'validation')\n",
        "test_dir = os.path.join(PATH, 'test')\n",
        "\n",
        "# Get number of files in each directory. The train and validation directories\n",
        "# each have the subdirecories \"dogs\" and \"cats\".\n",
        "total_train = sum([len(files) for r, d, files in os.walk(train_dir)])\n",
        "total_val = sum([len(files) for r, d, files in os.walk(validation_dir)])\n",
        "total_test = len(os.listdir(test_dir))\n",
        "\n",
        "# Variables for pre-processing and training.\n",
        "batch_size = 128\n",
        "epochs = 15\n",
        "IMG_HEIGHT = 150\n",
        "IMG_WIDTH = 150"
      ],
      "execution_count": null,
      "outputs": []
    },
    {
      "cell_type": "markdown",
      "metadata": {
        "id": "54bSbGlK9-6T"
      },
      "source": [
        "Now it is your turn! Set each of the variables below correctly. (They should no longer equal `None`.)\n",
        "\n",
        "Create image generators for each of the three image data sets (train, validation, test). Use `ImageDataGenerator` to read / decode the images and convert them into floating point tensors. Use the `rescale` argument (and no other arguments for now) to rescale the tensors from values between 0 and 255 to values between 0 and 1.\n",
        "\n",
        "For the `*_data_gen` variables, use the `flow_from_directory` method. Pass in the batch size, directory, target size (`(IMG_HEIGHT, IMG_WIDTH)`), class mode, and anything else required. `test_data_gen` will be the trickiest one. For `test_data_gen`, make sure to pass in `shuffle=False` to the `flow_from_directory` method. This will make sure the final predictions stay is in the order that our test expects. For `test_data_gen` it will also be helpful to observe the directory structure.\n",
        "\n",
        "\n",
        "After you run the code, the output should look like this:\n",
        "```\n",
        "Found 2000 images belonging to 2 classes.\n",
        "Found 1000 images belonging to 2 classes.\n",
        "Found 50 images belonging to 1 classes.\n",
        "```"
      ]
    },
    {
      "cell_type": "code",
      "metadata": {
        "colab": {
          "base_uri": "https://localhost:8080/"
        },
        "id": "EOJFeEfumns6",
        "outputId": "8e625abe-eff5-499d-8c33-6b87fe97c25f"
      },
      "source": [
        "train_image_generator = ImageDataGenerator(rescale = 1./255.)\n",
        "validation_image_generator = ImageDataGenerator(rescale = 1./255.)\n",
        "test_image_generator = ImageDataGenerator(rescale = 1./255.)\n",
        "\n",
        "\n",
        "train_data_gen = train_image_generator.flow_from_directory(\n",
        "    directory = train_dir,\n",
        "    target_size = (IMG_HEIGHT, IMG_WIDTH),\n",
        "    # color_mode = \"rgb\",\n",
        "    batch_size = batch_size,\n",
        "    class_mode=\"binary\",\n",
        "    shuffle=True,\n",
        "    seed=42\n",
        ")\n",
        "\n",
        "val_data_gen = validation_image_generator.flow_from_directory(\n",
        "    directory = validation_dir,\n",
        "    target_size = (IMG_HEIGHT, IMG_WIDTH),\n",
        "    # color_mode = \"rgb\",\n",
        "    batch_size = batch_size,\n",
        "    class_mode=\"binary\",\n",
        "    shuffle=True,\n",
        "    seed=42\n",
        ")\n",
        "\n",
        "# test_data_gen = tf.keras.preprocessing.image_dataset_from_directory(\n",
        "#     PATH,\n",
        "#     target_size=(IMG_HEIGHT, IMG_WIDTH),\n",
        "#     batch_size=1,\n",
        "#     classes=['test'],\n",
        "#     class_mode='sparse',\n",
        "#     shuffle=False\n",
        "# )\n",
        "\n",
        "test_data_gen = test_image_generator.flow_from_directory(\n",
        "        PATH,\n",
        "        target_size=(IMG_HEIGHT, IMG_WIDTH),\n",
        "        batch_size=1,\n",
        "        classes=['test'],\n",
        "        # class_mode='sparse',\n",
        "        class_mode=None,\n",
        "        shuffle=False\n",
        ")\n",
        "\n",
        "# test_data_gen = test_image_generator.flow_from_directory(\n",
        "#     directory = test_dir,\n",
        "#     target_size = (IMG_HEIGHT, IMG_WIDTH),\n",
        "#     color_mode = \"rgb\",\n",
        "#     class_mode=None,\n",
        "# )"
      ],
      "execution_count": null,
      "outputs": [
        {
          "output_type": "stream",
          "text": [
            "Found 2000 images belonging to 2 classes.\n",
            "Found 1000 images belonging to 2 classes.\n",
            "Found 50 images belonging to 1 classes.\n"
          ],
          "name": "stdout"
        }
      ]
    },
    {
      "cell_type": "markdown",
      "metadata": {
        "id": "77TvZVETP_b2"
      },
      "source": [
        "The `plotImages` function will be used a few times to plot images. It takes an array of images and a probabilities list, although the probabilities list is optional. This code is given to you. If you created the `train_data_gen` variable correctly, then running the cell below will plot five random training images."
      ]
    },
    {
      "cell_type": "code",
      "metadata": {
        "id": "TP0WA8j1mt7Q"
      },
      "source": [
        "def plotImages(images_arr, probabilities = False):\n",
        "    fig, axes = plt.subplots(len(images_arr), 1, figsize=(5,len(images_arr) * 3))\n",
        "    if probabilities is False:\n",
        "      for img, ax in zip( images_arr, axes):\n",
        "          ax.imshow(img)\n",
        "          ax.axis('off')\n",
        "    else:\n",
        "      for img, probability, ax in zip( images_arr, probabilities, axes):\n",
        "          ax.imshow(img)\n",
        "          ax.axis('off')\n",
        "          if probability > 0.5:\n",
        "              ax.set_title(\"%.2f\" % (probability*100) + \"% dog\")\n",
        "          else:\n",
        "              ax.set_title(\"%.2f\" % ((1-probability)*100) + \"% cat\")\n",
        "    plt.show()\n",
        "\n",
        "sample_training_images, _ = next(train_data_gen)\n",
        "plotImages(sample_training_images[:5])\n"
      ],
      "execution_count": null,
      "outputs": []
    },
    {
      "cell_type": "markdown",
      "metadata": {
        "id": "GlLF4j7hkxEp"
      },
      "source": [
        "Recreate the `train_image_generator` using `ImageDataGenerator`. \n",
        "\n",
        "Since there are a small number of training examples there is a risk of overfitting. One way to fix this problem is by creating more training data from existing training examples by using random transformations.\n",
        "\n",
        "Add 4-6 random transformations as arguments to `ImageDataGenerator`. Make sure to rescale the same as before.\n"
      ]
    },
    {
      "cell_type": "code",
      "metadata": {
        "id": "-32RRLY_3voj",
        "colab": {
          "base_uri": "https://localhost:8080/"
        },
        "outputId": "99167ec6-7c20-4758-f715-557d46d92b19"
      },
      "source": [
        "train_image_generator = ImageDataGenerator(\n",
        "    rotation_range=40,\n",
        "    zoom_range=0.1,\n",
        "    vertical_flip=False,\n",
        "    horizontal_flip = True,\n",
        "    rescale=1./255.,\n",
        "    width_shift_range =0.1,\n",
        "    height_shift_range =0.1,\n",
        "    shear_range=0.1,\n",
        "    brightness_range = [0.8, 1],\n",
        "    fill_mode=\"nearest\")\n",
        "\n",
        "\n",
        "train_data_gen = train_image_generator.flow_from_directory(\n",
        "    directory = train_dir,\n",
        "    target_size = (IMG_HEIGHT, IMG_WIDTH),\n",
        "    # color_mode = \"rgb\",\n",
        "    batch_size = batch_size,\n",
        "    class_mode=\"binary\",\n",
        "    shuffle=True,\n",
        "    # seed=42\n",
        ")"
      ],
      "execution_count": null,
      "outputs": [
        {
          "output_type": "stream",
          "text": [
            "Found 2000 images belonging to 2 classes.\n"
          ],
          "name": "stdout"
        }
      ]
    },
    {
      "cell_type": "markdown",
      "metadata": {
        "id": "JLzS54VmqkRg"
      },
      "source": [
        "You don't have to do anything for the next cell. `train_data_gen` is created just like before but with the new `train_image_generator`. Then, a single image is plotted five different times using different variations."
      ]
    },
    {
      "cell_type": "code",
      "metadata": {
        "id": "pkwq2LFvqabS"
      },
      "source": [
        "# train_data_gen = train_image_generator.flow_from_directory(\n",
        "#                                                     directory=train_dir,\n",
        "#                                                     target_size=(IMG_HEIGHT, IMG_WIDTH),\n",
        "#                                                     class_mode='binary',\n",
        "#                                                     shuffle=True,\n",
        "#                                                     #  color_mode = \"rgb\",\n",
        "#                                                     #  seed=42\n",
        "#                                                     batch_size=batch_size\n",
        "#                                                     )\n",
        "\n",
        "augmented_images = [train_data_gen[0][0][0] for i in range(5)]\n",
        "\n",
        "plotImages(augmented_images)"
      ],
      "execution_count": null,
      "outputs": []
    },
    {
      "cell_type": "markdown",
      "metadata": {
        "id": "wUPWeKtESzA9"
      },
      "source": [
        "In the cell below, create a model for the neural network that outputs class probabilities. It should use the Keras Sequential model. It will probably involve a stack of Conv2D and MaxPooling2D layers and then a fully connected layer on top that is activated by a ReLU activation function.\n",
        "\n",
        "Compile the model passing the arguments to set the optimizer and loss. Also pass in `metrics=['accuracy']` to view training and validation accuracy for each training epoch."
      ]
    },
    {
      "cell_type": "code",
      "metadata": {
        "colab": {
          "base_uri": "https://localhost:8080/"
        },
        "id": "k8aZkwMam4UY",
        "outputId": "7c458607-d632-4d34-8bc9-3892de1cf817"
      },
      "source": [
        "# working model\n",
        "# model = Sequential([\n",
        "#                   Conv2D(32, (3, 3), activation='relu', input_shape=(150, 150, 3)),\n",
        "#                   MaxPooling2D((2, 2)),\n",
        "#                   Conv2D(64, (3, 3), activation='relu'),\n",
        "#                   MaxPooling2D((2,2)),\n",
        "#                   Flatten(),\n",
        "#                   Dense(16, activation=\"relu\"),\n",
        "#                   Dense(2)\n",
        "# ])\n",
        "\n",
        "model = Sequential([\n",
        "                  Conv2D(64, (3, 3), activation='relu', input_shape=(IMG_HEIGHT, IMG_WIDTH, 3)),\n",
        "                  MaxPooling2D((2, 2)),\n",
        "                  Conv2D(128, (3, 3), activation='relu'),\n",
        "                  MaxPooling2D((2,2)),\n",
        "                  # Dropout(0.25),\n",
        "                  Conv2D(64, (3, 3), activation='relu'),\n",
        "                  # MaxPooling2D((2,2)),\n",
        "                  # Conv2D(32, (3, 3), activation='relu'),\n",
        "                  # MaxPooling2D((2,2)),\n",
        "                  # Dropout(0.5),\n",
        "                  Flatten(),\n",
        "                  Dense(64, activation=\"relu\"),\n",
        "                  # Dense(16, activation=\"relu\"),\n",
        "                  # Dense(1, activation=\"sigmoid\")\n",
        "                  Dense(2, activation=\"sigmoid\")\n",
        "])\n",
        "\n",
        "model.compile(\n",
        "    # optimizer=tf.keras.optimizers.Adam(lr=1e-7),\n",
        "    optimizer=\"adam\",\n",
        "    loss=tf.keras.losses.SparseCategoricalCrossentropy(from_logits=True),\n",
        "    # loss=tf.keras.losses.BinaryCrossentropy(),\n",
        "    metrics=[\"accuracy\"],\n",
        "    )\n",
        "\n",
        "model.summary()"
      ],
      "execution_count": null,
      "outputs": [
        {
          "output_type": "stream",
          "text": [
            "Model: \"sequential\"\n",
            "_________________________________________________________________\n",
            "Layer (type)                 Output Shape              Param #   \n",
            "=================================================================\n",
            "conv2d (Conv2D)              (None, 148, 148, 64)      1792      \n",
            "_________________________________________________________________\n",
            "max_pooling2d (MaxPooling2D) (None, 74, 74, 64)        0         \n",
            "_________________________________________________________________\n",
            "conv2d_1 (Conv2D)            (None, 72, 72, 128)       73856     \n",
            "_________________________________________________________________\n",
            "max_pooling2d_1 (MaxPooling2 (None, 36, 36, 128)       0         \n",
            "_________________________________________________________________\n",
            "conv2d_2 (Conv2D)            (None, 34, 34, 64)        73792     \n",
            "_________________________________________________________________\n",
            "flatten (Flatten)            (None, 73984)             0         \n",
            "_________________________________________________________________\n",
            "dense (Dense)                (None, 64)                4735040   \n",
            "_________________________________________________________________\n",
            "dense_1 (Dense)              (None, 2)                 130       \n",
            "=================================================================\n",
            "Total params: 4,884,610\n",
            "Trainable params: 4,884,610\n",
            "Non-trainable params: 0\n",
            "_________________________________________________________________\n"
          ],
          "name": "stdout"
        }
      ]
    },
    {
      "cell_type": "code",
      "metadata": {
        "id": "ONdrhr7gChJY",
        "colab": {
          "base_uri": "https://localhost:8080/"
        },
        "outputId": "b6155822-b2a3-48c9-b16b-3b91a0e4fb1b"
      },
      "source": [
        "# # copied model\n",
        "# model2 = Sequential()\n",
        "\n",
        "# model2.add(Conv2D(32,(3,3), activation='relu', input_shape=(IMG_HEIGHT,IMG_WIDTH,3)))\n",
        "# model2.add(MaxPooling2D((2,2)))\n",
        "# model2.add(Conv2D(32,(3,3),activation='relu'))\n",
        "# model2.add(MaxPooling2D((2,2)))\n",
        "# model2.add(Dropout(0.5))\n",
        "# model2.add(Flatten())\n",
        "# model2.add(Dense(64, activation='relu'))\n",
        "# model2.add(Dense(1,activation='sigmoid'))\n",
        "# model2.compile(optimizer='adam',loss=tf.keras.losses.BinaryCrossentropy(), metrics=['accuracy'])\n",
        "# model2.summary()"
      ],
      "execution_count": null,
      "outputs": [
        {
          "output_type": "stream",
          "text": [
            "Model: \"sequential_1\"\n",
            "_________________________________________________________________\n",
            "Layer (type)                 Output Shape              Param #   \n",
            "=================================================================\n",
            "conv2d_3 (Conv2D)            (None, 148, 148, 32)      896       \n",
            "_________________________________________________________________\n",
            "max_pooling2d_2 (MaxPooling2 (None, 74, 74, 32)        0         \n",
            "_________________________________________________________________\n",
            "conv2d_4 (Conv2D)            (None, 72, 72, 32)        9248      \n",
            "_________________________________________________________________\n",
            "max_pooling2d_3 (MaxPooling2 (None, 36, 36, 32)        0         \n",
            "_________________________________________________________________\n",
            "dropout (Dropout)            (None, 36, 36, 32)        0         \n",
            "_________________________________________________________________\n",
            "flatten_1 (Flatten)          (None, 41472)             0         \n",
            "_________________________________________________________________\n",
            "dense_2 (Dense)              (None, 64)                2654272   \n",
            "_________________________________________________________________\n",
            "dense_3 (Dense)              (None, 1)                 65        \n",
            "=================================================================\n",
            "Total params: 2,664,481\n",
            "Trainable params: 2,664,481\n",
            "Non-trainable params: 0\n",
            "_________________________________________________________________\n"
          ],
          "name": "stdout"
        }
      ]
    },
    {
      "cell_type": "markdown",
      "metadata": {
        "id": "-rYmKuT1dRdy"
      },
      "source": [
        "Use the `fit` method on your `model` to train the network. Make sure to pass in arguments for `x`, `steps_per_epoch`, `epochs`, `validation_data`, and `validation_steps`."
      ]
    },
    {
      "cell_type": "code",
      "metadata": {
        "colab": {
          "base_uri": "https://localhost:8080/"
        },
        "id": "1niQDz5x6K7y",
        "outputId": "d71ecdad-d1bb-4feb-a3f0-e774abfe0bc4"
      },
      "source": [
        "epochs = 15\n",
        "\n",
        "history = model.fit(train_data_gen,\n",
        "                    validation_data=val_data_gen,\n",
        "                    epochs=epochs,\n",
        "                    steps_per_epoch=train_data_gen.n//train_data_gen.batch_size,\n",
        "                    validation_steps=val_data_gen.n//val_data_gen.batch_size,\n",
        "                    verbose=1\n",
        "                    )"
      ],
      "execution_count": null,
      "outputs": [
        {
          "output_type": "stream",
          "text": [
            "Epoch 1/15\n",
            "15/15 [==============================] - 52s 1s/step - loss: 1.1479 - accuracy: 0.5085 - val_loss: 0.6924 - val_accuracy: 0.5067\n",
            "Epoch 2/15\n",
            "15/15 [==============================] - 19s 1s/step - loss: 0.6951 - accuracy: 0.5018 - val_loss: 0.6925 - val_accuracy: 0.5067\n",
            "Epoch 3/15\n",
            "15/15 [==============================] - 18s 1s/step - loss: 0.6924 - accuracy: 0.5105 - val_loss: 0.6931 - val_accuracy: 0.5089\n",
            "Epoch 4/15\n",
            "15/15 [==============================] - 18s 1s/step - loss: 0.6932 - accuracy: 0.5017 - val_loss: 0.6913 - val_accuracy: 0.5089\n",
            "Epoch 5/15\n",
            "15/15 [==============================] - 18s 1s/step - loss: 0.6922 - accuracy: 0.5047 - val_loss: 0.6892 - val_accuracy: 0.5179\n",
            "Epoch 6/15\n",
            "15/15 [==============================] - 17s 1s/step - loss: 0.6972 - accuracy: 0.4926 - val_loss: 0.6932 - val_accuracy: 0.4967\n",
            "Epoch 7/15\n",
            "15/15 [==============================] - 18s 1s/step - loss: 0.6929 - accuracy: 0.5147 - val_loss: 0.6931 - val_accuracy: 0.5045\n",
            "Epoch 8/15\n",
            "15/15 [==============================] - 18s 1s/step - loss: 0.6934 - accuracy: 0.5047 - val_loss: 0.6904 - val_accuracy: 0.5536\n",
            "Epoch 9/15\n",
            "15/15 [==============================] - 17s 1s/step - loss: 0.6875 - accuracy: 0.5354 - val_loss: 0.6852 - val_accuracy: 0.5580\n",
            "Epoch 10/15\n",
            "15/15 [==============================] - 17s 1s/step - loss: 0.6904 - accuracy: 0.5424 - val_loss: 0.6835 - val_accuracy: 0.5167\n",
            "Epoch 11/15\n",
            "15/15 [==============================] - 18s 1s/step - loss: 0.6892 - accuracy: 0.5321 - val_loss: 0.6832 - val_accuracy: 0.5647\n",
            "Epoch 12/15\n",
            "15/15 [==============================] - 17s 1s/step - loss: 0.6813 - accuracy: 0.5771 - val_loss: 0.6881 - val_accuracy: 0.5335\n",
            "Epoch 13/15\n",
            "15/15 [==============================] - 18s 1s/step - loss: 0.6835 - accuracy: 0.5572 - val_loss: 0.6714 - val_accuracy: 0.5759\n",
            "Epoch 14/15\n",
            "15/15 [==============================] - 17s 1s/step - loss: 0.6801 - accuracy: 0.5460 - val_loss: 0.6852 - val_accuracy: 0.5402\n",
            "Epoch 15/15\n",
            "15/15 [==============================] - 18s 1s/step - loss: 0.6826 - accuracy: 0.5563 - val_loss: 0.6738 - val_accuracy: 0.5781\n"
          ],
          "name": "stdout"
        }
      ]
    },
    {
      "cell_type": "markdown",
      "metadata": {
        "id": "Imux8tZWsWp-"
      },
      "source": [
        "Run the next cell to visualize the accuracy and loss of the model."
      ]
    },
    {
      "cell_type": "code",
      "metadata": {
        "colab": {
          "base_uri": "https://localhost:8080/",
          "height": 499
        },
        "id": "5xS51mB56OAC",
        "outputId": "7c717310-9ab4-48ae-8adc-a0298890fd80"
      },
      "source": [
        "acc = history.history['accuracy']\n",
        "val_acc = history.history['val_accuracy']\n",
        "\n",
        "loss = history.history['loss']\n",
        "val_loss = history.history['val_loss']\n",
        "\n",
        "epochs_range = range(epochs)\n",
        "# epochs_range = range(5)\n",
        "\n",
        "plt.figure(figsize=(8, 8))\n",
        "plt.subplot(1, 2, 1)\n",
        "plt.plot(epochs_range, acc, label='Training Accuracy')\n",
        "plt.plot(epochs_range, val_acc, label='Validation Accuracy')\n",
        "plt.legend(loc='lower right')\n",
        "plt.title('Training and Validation Accuracy')\n",
        "\n",
        "plt.subplot(1, 2, 2)\n",
        "plt.plot(epochs_range, loss, label='Training Loss')\n",
        "plt.plot(epochs_range, val_loss, label='Validation Loss')\n",
        "plt.legend(loc='upper right')\n",
        "plt.title('Training and Validation Loss')\n",
        "plt.show()"
      ],
      "execution_count": null,
      "outputs": [
        {
          "output_type": "display_data",
          "data": {
            "image/png": "[encoded data removed]",
            "text/plain": [
              "<Figure size 576x576 with 2 Axes>"
            ]
          },
          "metadata": {
            "tags": [],
            "needs_background": "light"
          }
        }
      ]
    },
    {
      "cell_type": "markdown",
      "metadata": {
        "id": "2bWrqi-usz3y"
      },
      "source": [
        "Now it is time to use your model to predict whether a brand new image is a cat or a dog.\n",
        "\n",
        "In this final cell, get the probability that each test image (from `test_data_gen`) is a dog or a cat. `probabilities` should be a list of integers. \n",
        "\n",
        "Call the `plotImages` function and pass in the test images and the probabilities corresponding to each test image.\n",
        "\n",
        "After your run the cell, you should see all 50 test images with a label showing the percentage sure that the image is a cat or a dog. The accuracy will correspond to the accuracy shown in the graph above (after running the previous cell). More training images could lead to a higher accuracy."
      ]
    },
    {
      "cell_type": "markdown",
      "metadata": {
        "id": "222ZZUup6SVO"
      },
      "source": [
        "Run this final cell to see if you passed the challenge or if you need to keep trying."
      ]
    },
    {
      "cell_type": "code",
      "metadata": {
        "colab": {
          "base_uri": "https://localhost:8080/"
        },
        "id": "4IH86Ux_u7TZ",
        "outputId": "5d58e9fe-828e-44f3-cf93-127f09eb435f"
      },
      "source": [
        "predictions = model.predict(test_data_gen)\n",
        "\n",
        "answers =  [1, 0, 0, 1, 0, 0, 0, 0, 1, 1, 0,\n",
        "            1, 0, 1, 0, 1, 1, 0, 1, 1, 0, 0,\n",
        "            1, 1, 1, 1, 1, 0, 0, 0, 0, 0, 1,\n",
        "            1, 0, 1, 1, 1, 1, 0, 1, 0, 1, 1, \n",
        "            0, 0, 0, 0, 0, 0]\n",
        "\n",
        "correct = 0\n",
        "\n",
        "for probability, answer in zip(\n",
        "                              #  probabilities,\n",
        "                               predictions,\n",
        "                               answers):\n",
        "  if round(probability[1]) == answer:\n",
        "    correct +=1\n",
        "\n",
        "percentage_identified = (correct / len(answers))\n",
        "\n",
        "passed_challenge = percentage_identified > 0.63\n",
        "\n",
        "print(f\"Your model correctly identified {round(percentage_identified, 2)}% of the images of cats and dogs.\")\n",
        "\n",
        "if passed_challenge:\n",
        "  print(\"You passed the challenge!\")\n",
        "else:\n",
        "  print(\"You haven't passed yet. Your model should identify at least 63% of the images. Keep trying. You will get it!\")"
      ],
      "execution_count": null,
      "outputs": [
        {
          "output_type": "stream",
          "text": [
            "Your model correctly identified 0.64% of the images of cats and dogs.\n",
            "You passed the challenge!\n"
          ],
          "name": "stdout"
        }
      ]
    },
    {
      "cell_type": "code",
      "metadata": {
        "colab": {
          "base_uri": "https://localhost:8080/"
        },
        "id": "plJVWcoE3dOu",
        "outputId": "a647ece0-65ef-471c-cccb-8baba81ef99f"
      },
      "source": [
        "predicted_class = model.predict_classes(test_data_gen)\n",
        "wrong_predict = [i if predicted_class[i] != answers[i] else 0 for i in range(50)]"
      ],
      "execution_count": null,
      "outputs": [
        {
          "output_type": "stream",
          "text": [
            "/usr/local/lib/python3.7/dist-packages/tensorflow/python/keras/engine/sequential.py:450: UserWarning: `model.predict_classes()` is deprecated and will be removed after 2021-01-01. Please use instead:* `np.argmax(model.predict(x), axis=-1)`,   if your model does multi-class classification   (e.g. if it uses a `softmax` last-layer activation).* `(model.predict(x) > 0.5).astype(\"int32\")`,   if your model does binary classification   (e.g. if it uses a `sigmoid` last-layer activation).\n",
            "  warnings.warn('`model.predict_classes()` is deprecated and '\n"
          ],
          "name": "stderr"
        }
      ]
    },
    {
      "cell_type": "code",
      "metadata": {
        "colab": {
          "base_uri": "https://localhost:8080/",
          "height": 134
        },
        "id": "5Swhg8cG38OI",
        "outputId": "d87b85a2-fe6c-407a-bc08-8d63ecdfbd6b"
      },
      "source": [
        "for probability, answer in zip(\n",
        "                              #  probabilities,\n",
        "                               predictions,\n",
        "                               answers):\n",
        "  if round(probability) == answer:\n",
        "    plotImages([test_data_gen[i][0] for prop, ans in zip(predictions, ansers)], predicted_class)"
      ],
      "execution_count": null,
      "outputs": [
        {
          "output_type": "error",
          "ename": "IndentationError",
          "evalue": "ignored",
          "traceback": [
            "\u001b[0;36m  File \u001b[0;32m\"<ipython-input-13-5c5d796ce024>\"\u001b[0;36m, line \u001b[0;32m7\u001b[0m\n\u001b[0;31m    plotImages([test_data_gen[i][0] for prop, ans in zip(predictions, ansers)], predicted_class)\u001b[0m\n\u001b[0m                                                                                                ^\u001b[0m\n\u001b[0;31mIndentationError\u001b[0m\u001b[0;31m:\u001b[0m expected an indented block\n"
          ]
        }
      ]
    },
    {
      "cell_type": "code",
      "metadata": {
        "id": "afuwVtZG3fbe"
      },
      "source": [
        "probabilities = predicted_class.tolist()\n",
        "actual_probabilities = [np.max(vector) for vector in predictions]\n",
        "# plotImages([test_data_gen[i][0] for i in range(50)], predicted_class)"
      ],
      "execution_count": null,
      "outputs": []
    },
    {
      "cell_type": "code",
      "metadata": {
        "colab": {
          "base_uri": "https://localhost:8080/"
        },
        "id": "5votiLLNGZZe",
        "outputId": "e6686750-ca29-4f75-d076-ef13eb2641fc"
      },
      "source": [
        "help(plotImages)"
      ],
      "execution_count": null,
      "outputs": [
        {
          "output_type": "stream",
          "text": [
            "Help on function plotImages in module __main__:\n",
            "\n",
            "plotImages(images_arr, probabilities=False)\n",
            "\n"
          ],
          "name": "stdout"
        }
      ]
    },
    {
      "cell_type": "code",
      "metadata": {
        "id": "fyIRBaZAGbKX"
      },
      "source": [
        ""
      ],
      "execution_count": null,
      "outputs": []
    }
  ]
}