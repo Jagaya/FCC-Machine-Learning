{
  "nbformat": 4,
  "nbformat_minor": 0,
  "metadata": {
    "colab": {
      "name": "FCC - ML - RockPaperScissor.ipynb",
      "provenance": [],
      "authorship_tag": "ABX9TyMk9ACgbpwsNKmYR6V4ECGv",
      "include_colab_link": true
    },
    "kernelspec": {
      "name": "python3",
      "display_name": "Python 3"
    }
  },
  "cells": [
    {
      "cell_type": "markdown",
      "metadata": {
        "id": "view-in-github",
        "colab_type": "text"
      },
      "source": [
        "<a href=\"https://colab.research.google.com/github/Jagaya/FCC-Machine-Learning/blob/main/FCC_ML_RockPaperScissor.ipynb\" target=\"_parent\"><img src=\"https://colab.research.google.com/assets/colab-badge.svg\" alt=\"Open In Colab\"/></a>"
      ]
    },
    {
      "cell_type": "markdown",
      "metadata": {
        "id": "K7-nBEHVC6LJ"
      },
      "source": [
        "Definition Grundstruktur"
      ]
    },
    {
      "cell_type": "code",
      "metadata": {
        "id": "l6zfQ7lPEb04"
      },
      "source": [
        "# DO NOT MODIFY THIS FILE\n",
        "import random\n",
        "\n",
        "\n",
        "def play(player1, player2, num_games, verbose=False):\n",
        "    p1_prev_play = \"\"\n",
        "    p2_prev_play = \"\"\n",
        "    results = {\"p1\": 0, \"p2\": 0, \"tie\": 0}\n",
        "\n",
        "    for _ in range(num_games):\n",
        "        p1_play = player1(p2_prev_play)\n",
        "        p2_play = player2(p1_prev_play)\n",
        "\n",
        "        if p1_play == p2_play:\n",
        "            results[\"tie\"] += 1\n",
        "            winner = \"Tie.\"\n",
        "        elif (p1_play == \"P\" and p2_play == \"R\") or (\n",
        "                p1_play == \"R\" and p2_play == \"S\") or (p1_play == \"S\"\n",
        "                                                       and p2_play == \"P\"):\n",
        "            results[\"p1\"] += 1\n",
        "            winner = \"Player 1 wins.\"\n",
        "        elif p2_play == \"P\" and p1_play == \"R\" or p2_play == \"R\" and p1_play == \"S\" or p2_play == \"S\" and p1_play == \"P\":\n",
        "            results[\"p2\"] += 1\n",
        "            winner = \"Player 2 wins.\"\n",
        "\n",
        "        if verbose:\n",
        "            print(\"Player 1:\", p1_play, \"| Player 2:\", p2_play)\n",
        "            print(winner)\n",
        "            print()\n",
        "\n",
        "        p1_prev_play = p1_play\n",
        "        p2_prev_play = p2_play\n",
        "\n",
        "    games_won = results['p2'] + results['p1']\n",
        "\n",
        "    if games_won == 0:\n",
        "        win_rate = 0\n",
        "    else:\n",
        "        win_rate = results['p1'] / games_won * 100\n",
        "\n",
        "    print(\"Final results:\", results)\n",
        "    print(f\"Player 1 win rate: {round(win_rate,2)}%\")\n",
        "\n",
        "    return (round(win_rate,2))\n",
        "\n",
        "\n",
        "def quincy(prev_play, counter=[0]):\n",
        "    counter[0] += 1\n",
        "    choices = [\"R\", \"R\", \"P\", \"P\", \"S\"]\n",
        "    return choices[counter[0] % len(choices)]\n",
        "\n",
        "\n",
        "def mrugesh(prev_opponent_play, opponent_history=[]):\n",
        "    opponent_history.append(prev_opponent_play)\n",
        "    last_ten = opponent_history[-10:]\n",
        "    most_frequent = max(set(last_ten), key=last_ten.count)\n",
        "\n",
        "    if most_frequent == '':\n",
        "        most_frequent = \"S\"\n",
        "\n",
        "    ideal_response = {'P': 'S', 'R': 'P', 'S': 'R'}\n",
        "    return ideal_response[most_frequent]\n",
        "\n",
        "\n",
        "def kris(prev_opponent_play):\n",
        "    if prev_opponent_play == '':\n",
        "        prev_opponent_play = \"R\"\n",
        "    ideal_response = {'P': 'S', 'R': 'P', 'S': 'R'}\n",
        "    return ideal_response[prev_opponent_play]\n",
        "\n",
        "\n",
        "def abbey(prev_opponent_play,\n",
        "          opponent_history=[],\n",
        "          play_order=[{\n",
        "              \"RR\": 0,\n",
        "              \"RP\": 0,\n",
        "              \"RS\": 0,\n",
        "              \"PR\": 0,\n",
        "              \"PP\": 0,\n",
        "              \"PS\": 0,\n",
        "              \"SR\": 0,\n",
        "              \"SP\": 0,\n",
        "              \"SS\": 0,\n",
        "          }]):\n",
        "\n",
        "    if not prev_opponent_play:\n",
        "        prev_opponent_play = 'R'\n",
        "    opponent_history.append(prev_opponent_play)\n",
        "\n",
        "    last_two = \"\".join(opponent_history[-2:])\n",
        "    if len(last_two) == 2:\n",
        "        play_order[0][last_two] += 1\n",
        "\n",
        "    potential_plays = [\n",
        "        prev_opponent_play + \"R\",\n",
        "        prev_opponent_play + \"P\",\n",
        "        prev_opponent_play + \"S\",\n",
        "    ]\n",
        "\n",
        "    sub_order = {\n",
        "        k: play_order[0][k]\n",
        "        for k in potential_plays if k in play_order[0]\n",
        "    }\n",
        "\n",
        "    prediction = max(sub_order, key=sub_order.get)[-1:]\n",
        "\n",
        "    ideal_response = {'P': 'S', 'R': 'P', 'S': 'R'}\n",
        "    return ideal_response[prediction]"
      ],
      "execution_count": null,
      "outputs": []
    },
    {
      "cell_type": "markdown",
      "metadata": {
        "id": "WC2WHZ2PEdOm"
      },
      "source": [
        "# Neuer Abschnitt"
      ]
    },
    {
      "cell_type": "code",
      "metadata": {
        "id": "Ki6lE0WzEpRM"
      },
      "source": [
        "def player1(prev_play, own_history=[\"R\"], counter=[0],\n",
        "            play_order=[{ \"RR\": 0,\n",
        "              \"RP\": 0,\n",
        "              \"RS\": 0,\n",
        "              \"PR\": 0,\n",
        "              \"PP\": 0,\n",
        "              \"PS\": 0,\n",
        "              \"SR\": 0,\n",
        "              \"SP\": 0,\n",
        "              \"SS\": 0,\n",
        "            }]):\n",
        "\n",
        "    counter[0] += 1\n",
        "    ideal_response = {'P': 'R', 'R': 'S', 'S': 'P'}\n",
        "\n",
        "    # Abby\n",
        "    if (counter[0]) <= 1000:\n",
        "      last_two = \"\".join(own_history[-2:])\n",
        "      if len(last_two) == 2:\n",
        "          play_order[0][last_two] += 1\n",
        "\n",
        "      potential_plays = [\n",
        "          own_history[-1] + \"R\",\n",
        "          own_history[-1] + \"P\",\n",
        "          own_history[-1] + \"S\",\n",
        "      ]\n",
        "\n",
        "      sub_order = {\n",
        "          k: play_order[0][k]\n",
        "          for k in potential_plays if k in play_order[0]\n",
        "      }\n",
        "\n",
        "      prediction = max(sub_order, key=sub_order.get)[-1:]\n",
        "\n",
        "      own_history += ideal_response[prediction]\n",
        "      return own_history[-1]\n",
        "\n",
        "    #Kris\n",
        "    if (counter[0]) <= 2000:\n",
        "        own_history += ideal_response[own_history[-1]]\n",
        "        return own_history[-1]\n",
        "\n",
        "    #mrugesh\n",
        "    if (counter[0]) <= 3000:\n",
        "        last_ten = own_history[-10:]\n",
        "        most_frequent = \"\"\n",
        "\n",
        "        most_frequent = max(set(last_ten), key=last_ten.count)\n",
        "\n",
        "        if most_frequent == '':\n",
        "            most_frequent = \"P\"\n",
        "\n",
        "        own_history += ideal_response[most_frequent]\n",
        "        return own_history[-1]\n",
        "\n",
        "    #quincy\n",
        "    if (counter[0]) <= 4000:\n",
        "        choices = [\"P\", \"P\", \"S\", \"S\", \"R\"]\n",
        "        return (choices[counter[0] % len(choices)])"
      ],
      "execution_count": null,
      "outputs": []
    },
    {
      "cell_type": "markdown",
      "metadata": {
        "id": "6HfXqQfdEd10"
      },
      "source": [
        "# Neuer Abschnitt"
      ]
    },
    {
      "cell_type": "code",
      "metadata": {
        "colab": {
          "base_uri": "https://localhost:8080/"
        },
        "id": "Xjn9uBtqEs3T",
        "outputId": "a63dd29a-f1df-42a3-9f8d-cd0189e85550"
      },
      "source": [
        "play(player1, abbey, 1000)\n",
        "play(player1, kris, 1000)\n",
        "play(player1, mrugesh, 1000)\n",
        "play(player1, quincy, 1000)"
      ],
      "execution_count": null,
      "outputs": [
        {
          "output_type": "stream",
          "text": [
            "Final results: {'p1': 333, 'p2': 333, 'tie': 334}\n",
            "Player 1 win rate: 50.0%\n",
            "Final results: {'p1': 999, 'p2': 0, 'tie': 1}\n",
            "Player 1 win rate: 100.0%\n",
            "Final results: {'p1': 993, 'p2': 4, 'tie': 3}\n",
            "Player 1 win rate: 99.6%\n",
            "Final results: {'p1': 1000, 'p2': 0, 'tie': 0}\n",
            "Player 1 win rate: 100.0%\n"
          ],
          "name": "stdout"
        },
        {
          "output_type": "execute_result",
          "data": {
            "text/plain": [
              "100.0"
            ]
          },
          "metadata": {
            "tags": []
          },
          "execution_count": 64
        }
      ]
    }
  ]
}